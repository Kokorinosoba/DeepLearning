{
 "cells": [
  {
   "cell_type": "code",
   "execution_count": 1,
   "metadata": {},
   "outputs": [
    {
     "data": {
      "text/plain": [
       "1"
      ]
     },
     "execution_count": 1,
     "metadata": {},
     "output_type": "execute_result"
    }
   ],
   "source": [
    "import numpy as np\n",
    "x = np.array([1, 2, 3])\n",
    "x.__class__\n",
    "x.shape\n",
    "x.ndim"
   ]
  },
  {
   "cell_type": "code",
   "execution_count": 2,
   "metadata": {},
   "outputs": [
    {
     "name": "stdout",
     "output_type": "stream",
     "text": [
      "n = 1, m =1, shape = (1, 1), dim = 2\n",
      "n = 1, m =2, shape = (1, 2), dim = 2\n",
      "n = 1, m =3, shape = (1, 3), dim = 2\n",
      "n = 1, m =4, shape = (1, 4), dim = 2\n",
      "n = 1, m =5, shape = (1, 5), dim = 2\n",
      "n = 1, m =6, shape = (1, 6), dim = 2\n",
      "n = 1, m =7, shape = (1, 7), dim = 2\n",
      "n = 1, m =8, shape = (1, 8), dim = 2\n",
      "n = 1, m =9, shape = (1, 9), dim = 2\n",
      "n = 2, m =1, shape = (2, 1), dim = 2\n",
      "n = 2, m =2, shape = (2, 2), dim = 2\n",
      "n = 2, m =3, shape = (2, 3), dim = 2\n",
      "n = 2, m =4, shape = (2, 4), dim = 2\n",
      "n = 2, m =5, shape = (2, 5), dim = 2\n",
      "n = 2, m =6, shape = (2, 6), dim = 2\n",
      "n = 2, m =7, shape = (2, 7), dim = 2\n",
      "n = 2, m =8, shape = (2, 8), dim = 2\n",
      "n = 2, m =9, shape = (2, 9), dim = 2\n",
      "n = 3, m =1, shape = (3, 1), dim = 2\n",
      "n = 3, m =2, shape = (3, 2), dim = 2\n",
      "n = 3, m =3, shape = (3, 3), dim = 2\n",
      "n = 3, m =4, shape = (3, 4), dim = 2\n",
      "n = 3, m =5, shape = (3, 5), dim = 2\n",
      "n = 3, m =6, shape = (3, 6), dim = 2\n",
      "n = 3, m =7, shape = (3, 7), dim = 2\n",
      "n = 3, m =8, shape = (3, 8), dim = 2\n",
      "n = 3, m =9, shape = (3, 9), dim = 2\n",
      "n = 4, m =1, shape = (4, 1), dim = 2\n",
      "n = 4, m =2, shape = (4, 2), dim = 2\n",
      "n = 4, m =3, shape = (4, 3), dim = 2\n",
      "n = 4, m =4, shape = (4, 4), dim = 2\n",
      "n = 4, m =5, shape = (4, 5), dim = 2\n",
      "n = 4, m =6, shape = (4, 6), dim = 2\n",
      "n = 4, m =7, shape = (4, 7), dim = 2\n",
      "n = 4, m =8, shape = (4, 8), dim = 2\n",
      "n = 4, m =9, shape = (4, 9), dim = 2\n",
      "n = 5, m =1, shape = (5, 1), dim = 2\n",
      "n = 5, m =2, shape = (5, 2), dim = 2\n",
      "n = 5, m =3, shape = (5, 3), dim = 2\n",
      "n = 5, m =4, shape = (5, 4), dim = 2\n",
      "n = 5, m =5, shape = (5, 5), dim = 2\n",
      "n = 5, m =6, shape = (5, 6), dim = 2\n",
      "n = 5, m =7, shape = (5, 7), dim = 2\n",
      "n = 5, m =8, shape = (5, 8), dim = 2\n",
      "n = 5, m =9, shape = (5, 9), dim = 2\n",
      "n = 6, m =1, shape = (6, 1), dim = 2\n",
      "n = 6, m =2, shape = (6, 2), dim = 2\n",
      "n = 6, m =3, shape = (6, 3), dim = 2\n",
      "n = 6, m =4, shape = (6, 4), dim = 2\n",
      "n = 6, m =5, shape = (6, 5), dim = 2\n",
      "n = 6, m =6, shape = (6, 6), dim = 2\n",
      "n = 6, m =7, shape = (6, 7), dim = 2\n",
      "n = 6, m =8, shape = (6, 8), dim = 2\n",
      "n = 6, m =9, shape = (6, 9), dim = 2\n",
      "n = 7, m =1, shape = (7, 1), dim = 2\n",
      "n = 7, m =2, shape = (7, 2), dim = 2\n",
      "n = 7, m =3, shape = (7, 3), dim = 2\n",
      "n = 7, m =4, shape = (7, 4), dim = 2\n",
      "n = 7, m =5, shape = (7, 5), dim = 2\n",
      "n = 7, m =6, shape = (7, 6), dim = 2\n",
      "n = 7, m =7, shape = (7, 7), dim = 2\n",
      "n = 7, m =8, shape = (7, 8), dim = 2\n",
      "n = 7, m =9, shape = (7, 9), dim = 2\n",
      "n = 8, m =1, shape = (8, 1), dim = 2\n",
      "n = 8, m =2, shape = (8, 2), dim = 2\n",
      "n = 8, m =3, shape = (8, 3), dim = 2\n",
      "n = 8, m =4, shape = (8, 4), dim = 2\n",
      "n = 8, m =5, shape = (8, 5), dim = 2\n",
      "n = 8, m =6, shape = (8, 6), dim = 2\n",
      "n = 8, m =7, shape = (8, 7), dim = 2\n",
      "n = 8, m =8, shape = (8, 8), dim = 2\n",
      "n = 8, m =9, shape = (8, 9), dim = 2\n",
      "n = 9, m =1, shape = (9, 1), dim = 2\n",
      "n = 9, m =2, shape = (9, 2), dim = 2\n",
      "n = 9, m =3, shape = (9, 3), dim = 2\n",
      "n = 9, m =4, shape = (9, 4), dim = 2\n",
      "n = 9, m =5, shape = (9, 5), dim = 2\n",
      "n = 9, m =6, shape = (9, 6), dim = 2\n",
      "n = 9, m =7, shape = (9, 7), dim = 2\n",
      "n = 9, m =8, shape = (9, 8), dim = 2\n",
      "n = 9, m =9, shape = (9, 9), dim = 2\n"
     ]
    }
   ],
   "source": [
    "for i in range(1, 10):\n",
    "    for j in range(1, 10):\n",
    "        print(\"n = {}, m ={}, shape = {}, dim = {}\".format(i, j, np.zeros((i, j)).shape, np.zeros((i, j)).ndim))"
   ]
  },
  {
   "cell_type": "code",
   "execution_count": 3,
   "metadata": {},
   "outputs": [
    {
     "name": "stdout",
     "output_type": "stream",
     "text": [
      "[[ 1  3  5]\n",
      " [ 7  9 11]]\n",
      "[[ 0  2  6]\n",
      " [12 20 30]]\n"
     ]
    }
   ],
   "source": [
    "W = np.array([[1, 2, 3], [4, 5, 6]])\n",
    "X = np.array([[0, 1, 2], [3, 4, 5]])\n",
    "print(W + X)\n",
    "print(W * X)"
   ]
  },
  {
   "cell_type": "code",
   "execution_count": 4,
   "metadata": {},
   "outputs": [
    {
     "data": {
      "text/plain": [
       "32"
      ]
     },
     "execution_count": 4,
     "metadata": {},
     "output_type": "execute_result"
    }
   ],
   "source": [
    "a = np.array([1, 2, 3])\n",
    "b = np.array([4, 5, 6])\n",
    "np.dot(a, b)"
   ]
  },
  {
   "cell_type": "code",
   "execution_count": 5,
   "metadata": {},
   "outputs": [
    {
     "data": {
      "text/plain": [
       "array([[19, 22],\n",
       "       [43, 50]])"
      ]
     },
     "execution_count": 5,
     "metadata": {},
     "output_type": "execute_result"
    }
   ],
   "source": [
    "A = np.array([[1, 2], [3, 4]])\n",
    "B = np.array([[5, 6], [7, 8]])\n",
    "np.dot(A, B)"
   ]
  },
  {
   "cell_type": "code",
   "execution_count": 6,
   "metadata": {},
   "outputs": [
    {
     "name": "stdout",
     "output_type": "stream",
     "text": [
      "[[ 0.27541539 -0.336026   -1.25576558  0.2564792 ]\n",
      " [ 0.26260031 -0.06421673 -1.19809256  0.5003248 ]\n",
      " [ 0.30356128 -0.47017992 -1.34257918  0.02554555]\n",
      " [ 0.2980374  -0.68136632 -1.34599397 -0.08546245]\n",
      " [ 0.30872433 -0.99648107 -1.40170544 -0.34702655]\n",
      " [ 0.32755893 -1.30538034 -1.47866837 -0.64578953]\n",
      " [ 0.24396366 -0.82623973 -1.21387723  0.09321186]\n",
      " [ 0.34819466 -0.26597866 -1.44434384 -0.06623885]\n",
      " [ 0.24727266 -1.35232914 -1.26802756 -0.2698251 ]\n",
      " [ 0.27809643 -0.17715912 -1.24925445  0.34745744]]\n"
     ]
    }
   ],
   "source": [
    "import numpy as np\n",
    "W1 = np.random.randn(2, 4)\n",
    "b1 = np.random.randn(4)\n",
    "x = np.random.rand(10, 2)\n",
    "h = np.dot(x, W1) + b1\n",
    "print(h)"
   ]
  },
  {
   "cell_type": "code",
   "execution_count": 7,
   "metadata": {},
   "outputs": [
    {
     "data": {
      "text/plain": [
       "array([[-0.07979076,  0.27742698],\n",
       "       [ 0.48608637, -1.20399814],\n",
       "       [ 1.99022569, -1.29010583],\n",
       "       [-0.01285124,  1.03274262],\n",
       "       [ 1.80153354,  0.86738407],\n",
       "       [-0.6728773 , -1.68665662],\n",
       "       [ 0.20861714,  1.36281094],\n",
       "       [ 0.99523242, -1.5688243 ],\n",
       "       [-1.35619619, -0.33929871],\n",
       "       [ 0.14127759,  1.92473684]])"
      ]
     },
     "execution_count": 7,
     "metadata": {},
     "output_type": "execute_result"
    }
   ],
   "source": [
    "np.random.randn(10, 2)"
   ]
  },
  {
   "cell_type": "code",
   "execution_count": 8,
   "metadata": {},
   "outputs": [],
   "source": [
    "def sigmoid(x):\n",
    "    return 1 / (1 + np.exp(-x))"
   ]
  },
  {
   "cell_type": "code",
   "execution_count": 9,
   "metadata": {},
   "outputs": [],
   "source": [
    "a = sigmoid(h)"
   ]
  },
  {
   "cell_type": "code",
   "execution_count": 10,
   "metadata": {},
   "outputs": [
    {
     "name": "stdout",
     "output_type": "stream",
     "text": [
      "[[ 1.16113591  2.03811574 -2.20710179]\n",
      " [ 1.28160939  2.19460109 -2.31881011]\n",
      " [ 1.04773243  1.92890778 -2.12365328]\n",
      " [ 0.98971638  1.8303261  -2.0561185 ]\n",
      " [ 0.86014184  1.66355161 -1.93577918]\n",
      " [ 0.72132536  1.50266826 -1.81694279]\n",
      " [ 1.07241149  1.83692469 -2.07463387]\n",
      " [ 1.00935365  1.9686752  -2.13992388]\n",
      " [ 0.89194176  1.59223884 -1.89775855]\n",
      " [ 1.20805865  2.11623515 -2.26046632]]\n"
     ]
    }
   ],
   "source": [
    "W2 = np.random.randn(4, 3)\n",
    "b2 = np.random.randn(3)\n",
    "s = np.dot(a, W2) + b2\n",
    "print(s)"
   ]
  },
  {
   "cell_type": "code",
   "execution_count": 11,
   "metadata": {},
   "outputs": [],
   "source": [
    "class Sigmoid:\n",
    "    def __init__(self):\n",
    "        self.params = []\n",
    "    def forward(self, x):\n",
    "        return 1 / (1 + np.exp(-x))"
   ]
  },
  {
   "cell_type": "code",
   "execution_count": 13,
   "metadata": {},
   "outputs": [],
   "source": [
    "class Affine:\n",
    "    def __init__(self, W, b):\n",
    "        self.params = [W, b]\n",
    "    def forward(self, x):\n",
    "        W, b = self.params\n",
    "        out = np.dot(x, W) + b\n",
    "        return out"
   ]
  },
  {
   "cell_type": "code",
   "execution_count": 14,
   "metadata": {},
   "outputs": [],
   "source": [
    "class TwoLayerNet:\n",
    "    def __init__(self, input_size, hidden_size, output_size):\n",
    "        I, H, O = input_size, hidden_size, output_size\n",
    "        \n",
    "        # Initialization of Weight and Bias\n",
    "        W1 = np.random.randn(I, H)\n",
    "        b1 = np.random.randn(H)\n",
    "        W2 = np.random.randn(H, O)\n",
    "        b2 = np.random.randn(O)\n",
    "        \n",
    "        # Create Layers\n",
    "        self.layers = [\n",
    "            Affine(W1, b1),\n",
    "            Sigmoid(),\n",
    "            Affine(W2, b2)\n",
    "        ]\n",
    "        \n",
    "        # Substitute All Weight for \"params\"\n",
    "        self.params = []\n",
    "        for layer in self.layers:\n",
    "            self.params += layer.params\n",
    "        \n",
    "    def predict(self, x):\n",
    "        for layer in self.layers:\n",
    "            x = layer.forward(x)\n",
    "        return x"
   ]
  },
  {
   "cell_type": "code",
   "execution_count": 15,
   "metadata": {},
   "outputs": [],
   "source": [
    "x = np.random.randn(10, 2)\n",
    "model = TwoLayerNet(2, 4, 3)\n",
    "s = model.predict(x)"
   ]
  },
  {
   "cell_type": "code",
   "execution_count": 16,
   "metadata": {},
   "outputs": [
    {
     "data": {
      "text/plain": [
       "array([[-1.53076009,  0.80190383,  0.61300782],\n",
       "       [-1.93361113,  1.28827303,  0.72713383],\n",
       "       [-1.55118535,  0.84670005,  0.55881799],\n",
       "       [-2.08508701,  1.40430318,  0.61263773],\n",
       "       [-2.01203748,  1.36574338,  0.64437692],\n",
       "       [-1.39087679,  0.64466017,  0.53788026],\n",
       "       [-2.07871383,  1.39071208,  0.57357971],\n",
       "       [-1.81923535,  1.14404837,  0.71680504],\n",
       "       [-2.04203769,  1.34067164,  0.47648365],\n",
       "       [-2.02046525,  1.24997838,  0.32787494]])"
      ]
     },
     "execution_count": 16,
     "metadata": {},
     "output_type": "execute_result"
    }
   ],
   "source": [
    "s"
   ]
  },
  {
   "cell_type": "code",
   "execution_count": null,
   "metadata": {},
   "outputs": [],
   "source": []
  }
 ],
 "metadata": {
  "kernelspec": {
   "display_name": "Python 3",
   "language": "python",
   "name": "python3"
  },
  "language_info": {
   "codemirror_mode": {
    "name": "ipython",
    "version": 3
   },
   "file_extension": ".py",
   "mimetype": "text/x-python",
   "name": "python",
   "nbconvert_exporter": "python",
   "pygments_lexer": "ipython3",
   "version": "3.7.0"
  }
 },
 "nbformat": 4,
 "nbformat_minor": 2
}
